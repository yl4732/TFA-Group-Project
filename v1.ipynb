{
  "cells": [
    {
      "cell_type": "markdown",
      "metadata": {
        "id": "view-in-github",
        "colab_type": "text"
      },
      "source": [
        "<a href=\"https://colab.research.google.com/github/yl4732/TFA-Group-Project/blob/main/v1.ipynb\" target=\"_parent\"><img src=\"https://colab.research.google.com/assets/colab-badge.svg\" alt=\"Open In Colab\"/></a>"
      ]
    },
    {
      "cell_type": "markdown",
      "metadata": {
        "id": "32f8ca24"
      },
      "source": [
        "# Understanding Hired Rides in NYC\n",
        "\n",
        "_[Project prompt](https://docs.google.com/document/d/1tGcX2qzS2GoaN5zFeD5DVJxqDmoQdmMs7QncZwFCEqU/edit#)_\n",
        "\n",
        "_This scaffolding notebook may be used to help setup your final project. It's totally optional whether you make use of this or not._\n",
        "\n",
        "_If you do use this notebook, everything provided is optional as well - you may remove or add prose and code as you wish._\n",
        "\n",
        "_Anything in italics (prose) or comments (in code) is meant to provide you with guidance. **Remove the italic lines and provided comments** before submitting the project, if you choose to use this scaffolding. We don't need the guidance when grading._\n",
        "\n",
        "_All code should be consider \"pseudo-code\" - not functional by itself, and only a suggestion at the approach._"
      ],
      "id": "32f8ca24"
    },
    {
      "cell_type": "markdown",
      "metadata": {
        "id": "25627e8d"
      },
      "source": [
        "## Requirements\n",
        "\n",
        "_A checklist of requirements to keep you on track. Remove this whole cell before submitting the project._\n",
        "\n",
        "* Code clarity: make sure the code conforms to:\n",
        "    * [ ] [PEP 8](https://peps.python.org/pep-0008/) - You might find [this resource](https://realpython.com/python-pep8/) helpful as well as [this](https://github.com/dnanhkhoa/nb_black) or [this](https://jupyterlab-code-formatter.readthedocs.io/en/latest/) tool\n",
        "    * [ ] [PEP 257](https://peps.python.org/pep-0257/)\n",
        "    * [ ] Break each task down into logical functions\n",
        "* The following files are submitted for the project (see the project's GDoc for more details):\n",
        "    * [ ] `README.md`\n",
        "    * [ ] `requirements.txt`\n",
        "    * [ ] `.gitignore`\n",
        "    * [ ] `schema.sql`\n",
        "    * [ ] 6 query files (using the `.sql` extension), appropriately named for the purpose of the query\n",
        "    * [x] Jupyter Notebook containing the project (this file!)\n",
        "* [x] You can edit this cell and add a `x` inside the `[ ]` like this task to denote a completed task"
      ],
      "id": "25627e8d"
    },
    {
      "cell_type": "markdown",
      "metadata": {
        "id": "2f75fd94"
      },
      "source": [
        "## Project Setup"
      ],
      "id": "2f75fd94"
    },
    {
      "cell_type": "code",
      "execution_count": null,
      "metadata": {
        "id": "66dcde05"
      },
      "outputs": [],
      "source": [
        "# all import statements needed for the project, for example:\n",
        "\n",
        "import math\n",
        "\n",
        "import bs4\n",
        "import matplotlib.pyplot as plt\n",
        "import pandas as pd\n",
        "import requests\n",
        "import sqlalchemy as db"
      ],
      "id": "66dcde05"
    },
    {
      "cell_type": "code",
      "execution_count": null,
      "metadata": {
        "id": "8b622a58"
      },
      "outputs": [],
      "source": [
        "# any general notebook setup, like log formatting"
      ],
      "id": "8b622a58"
    },
    {
      "cell_type": "code",
      "execution_count": null,
      "metadata": {
        "id": "3f1242c4"
      },
      "outputs": [],
      "source": [
        "# any constants you might need, for example:\n",
        "\n",
        "TAXI_URL = \"https://www1.nyc.gov/site/tlc/about/tlc-trip-record-data.page\"\n",
        "# add other constants to refer to any local data, e.g. uber & weather\n",
        "UBER_CSV = \"uber_rides_sample.csv\"\n",
        "\n",
        "NEW_YORK_BOX_COORDS = ((40.560445, -74.242330), (40.908524, -73.717047))\n",
        "\n",
        "DATABASE_URL = \"sqlite:///project.db\"\n",
        "DATABASE_SCHEMA_FILE = \"schema.sql\"\n",
        "QUERY_DIRECTORY = \"queries\""
      ],
      "id": "3f1242c4"
    },
    {
      "cell_type": "markdown",
      "metadata": {
        "id": "26ad10ea"
      },
      "source": [
        "## Part 1: Data Preprocessing"
      ],
      "id": "26ad10ea"
    },
    {
      "cell_type": "markdown",
      "metadata": {
        "id": "ecf38168"
      },
      "source": [
        "_A checklist of requirements to keep you on track. Remove this whole cell before submitting the project. The order of these tasks aren't necessarily the order in which they need to be done. It's okay to do them in an order that makes sense to you._\n",
        "\n",
        "* [ ] Define a function that calculates the distance between two coordinates in kilometers that **only uses the `math` module** from the standard library\n",
        "* [ ] Write at least one unit test that tests this distance calculation function. \n",
        "* Taxi data:\n",
        "    * [ ] Use `requests`, BeautifulSoup (`bs4`), and `pandas` to programmatically download the required CSV files & load into memory.\n",
        "    * [ ] Clean the data, including:\n",
        "        * Remove unnecessary columns\n",
        "        * Remove invalid data points (take a moment to consider what's invalid)\n",
        "        * Normalize column names\n",
        "        * Remove trips that start and/or end outside the designated [coordinate box](http://bboxfinder.com/#40.560445,-74.242330,40.908524,-73.717047)\n",
        "    * [ ] Sample the data so that you have roughly the same amount of data points over the given date range for both Taxi data and Uber data.\n",
        "    * You may need to do this one file at a time - download, clean, sample. You can cache the sampling by saving it as a CSV file (and thereby freeing up memory on your computer) before moving onto the next file. \n",
        "* Uber data:\n",
        "    * [ ] Download the data manually in the link provided in the project doc.\n",
        "    * [ ] Load the data from your local computer (using `pandas`), then clean the data, including: \n",
        "        * Remove unnecessary columns\n",
        "        * Remove invalid data points (take a moment to consider what's invalid)\n",
        "        * Normalize column names\n",
        "        * Remove trips that start and/or end outside the designated [coordinate box]\n",
        "* Using the function that calculates the distance between two coordinates in kilometers, add a column to each `pandas` DataFrame of data that calculates the distance between pickup and dropoff locations for each trip.\n",
        "* Weather data:\n",
        "    * [ ] Download the data manually in the link provided in the project doc.\n",
        "    * [ ] Load the data from your local computer (using `pandas`), then clean the data, including: \n",
        "        * Remove unnecessary columns\n",
        "        * Remove invalid data points (take a moment to consider what's invalid)\n",
        "        * Normalize column names\n",
        "        * Split into two `pandas` DataFrames: one for required hourly data, and one for the required daily daya.\n",
        "        * You may find that the weather data you need later on does not exist at the frequency needed (daily vs hourly). You may calculate/generate samples from one to populate the other. Just document what you’re doing so we can follow along. \n",
        "* Take a look at the lecture notes from the `pandas` lecture for hints on helpful functionality"
      ],
      "id": "ecf38168"
    },
    {
      "cell_type": "markdown",
      "metadata": {
        "id": "32074561"
      },
      "source": [
        "### Calculating distance\n",
        "_Write some prose that tells the reader what you're about to do here._"
      ],
      "id": "32074561"
    },
    {
      "cell_type": "code",
      "execution_count": null,
      "metadata": {
        "id": "4cbbe6cc"
      },
      "outputs": [],
      "source": [
        "def calculate_distance(from_coord, to_coord):\n",
        "  lat1, lon1 = from_coord\n",
        "  lat2, lon2 = to_coord\n",
        "  radius = 6371 # km\n",
        "\n",
        "  dlat = math.radians(lat2-lat1)\n",
        "  dlon = math.radians(lon2-lon1)\n",
        "  a = math.sin(dlat/2) * math.sin(dlat/2) + math.cos(math.radians(lat1)) * math.cos(math.radians(lat2)) * math.sin(dlon/2) * math.sin(dlon/2)\n",
        "  c = 2 * math.atan2(math.sqrt(a), math.sqrt(1-a))\n",
        "  d = radius * c\n",
        "  return d\n",
        "#calculate_distance((40.776440\t, -73.959862), (40.767906, -73.962837))"
      ],
      "id": "4cbbe6cc"
    },
    {
      "cell_type": "code",
      "execution_count": null,
      "metadata": {
        "id": "bee0343a"
      },
      "outputs": [],
      "source": [
        "def test_calculate_distance():\n",
        "  assert calculate_distance((40.560445, -74.242330), (40.908524, -73.717047))==58.795089791900814"
      ],
      "id": "bee0343a"
    },
    {
      "cell_type": "code",
      "execution_count": null,
      "metadata": {
        "id": "6d6abf52"
      },
      "outputs": [],
      "source": [
        "from typing import AnyStr\n",
        "def add_distance_column(dataframe):\n",
        "  coordinate_distance=[]\n",
        "  for index, row in dataframe.iterrows():\n",
        "    from_coord=(row['pickup_latitude'],row['pickup_longitude'])\n",
        "    to_coord=(row['dropoff_latitude'],row['dropoff_longitude'])\n",
        "    coordinate_distance.append(calculate_distance(from_coord,to_coord))  \n",
        "  dataframe= pd.concat([dataframe,pd.DataFrame(coordinate_distance,columns=['coordinate_distance'])], axis=1)\n",
        "  print(len(coordinate_distance))\n",
        "  return dataframe\n"
      ],
      "id": "6d6abf52"
    },
    {
      "cell_type": "markdown",
      "metadata": {
        "id": "93daa717"
      },
      "source": [
        "### Processing Taxi Data\n",
        "\n",
        "_Write some prose that tells the reader what you're about to do here._"
      ],
      "id": "93daa717"
    },
    {
      "cell_type": "code",
      "execution_count": null,
      "metadata": {
        "colab": {
          "base_uri": "https://localhost:8080/"
        },
        "id": "qFiiwsbcvsxl",
        "outputId": "615c5b61-e0ed-4272-927d-504fb7346504"
      },
      "outputs": [
        {
          "name": "stdout",
          "output_type": "stream",
          "text": [
            "Mounted at /content/drive\n"
          ]
        }
      ],
      "source": [
        "from google.colab import drive\n",
        "drive.mount('/content/drive')"
      ],
      "id": "qFiiwsbcvsxl"
    },
    {
      "cell_type": "code",
      "execution_count": null,
      "metadata": {
        "id": "cbd0d198"
      },
      "outputs": [],
      "source": [
        "from bs4 import BeautifulSoup\n",
        "import re\n",
        "def find_taxi_csv_urls(TAXI_URL):\n",
        "    response = requests.get(TAXI_URL)\n",
        "    if not response.status_code == 200:\n",
        "        return None\n",
        "    result_page = BeautifulSoup(response.content,'lxml')\n",
        "    taxi_urls = list()\n",
        "    all_taxi_urls=list()\n",
        "\n",
        "    for year in result_page.find_all('div',{\"id\":re.compile('faq.*')}):\n",
        "\n",
        "        for month in year.find_all('a', {\"title\": 'Yellow Taxi Trip Records'}):\n",
        "            taxi_urls.append(month.get('href'))\n",
        "\n",
        "    for i in taxi_urls:\n",
        "      if i[-11:-4]>=\"2009-01\" and i[-11:-4]<=\"2015-06\":\n",
        "        all_taxi_urls.append(i)   \n",
        "    return all_taxi_urls\n",
        "\n",
        "\n",
        "\n",
        "\n",
        "def get_and_clean_month_taxi_data(url):\n",
        "    df = pd.read_csv(url)\n",
        "    df.columns = df.columns.str.lower()\n",
        "    words = ['time', 'lon', 'lat', 'tip', 'distance','total']\n",
        "    df_new = pd.DataFrame()\n",
        "    for i in words:\n",
        "      col=df.loc[:,df.columns.str.contains(i)]\n",
        "      df_new=pd.concat([df_new, col], axis=1)\n",
        "    mapping = {df_new.columns[0]:'pickup_datetime', \n",
        "           df_new.columns[1]: 'dropoff_datetime', \n",
        "           df_new.columns[2]: 'pickup_longitude', \n",
        "           df_new.columns[3]: 'dropoff_longitude',\n",
        "           df_new.columns[4]: 'pickup_latitude',\n",
        "           df_new.columns[5]: 'dropoff_latitude',\n",
        "           df_new.columns[6]: 'tip',\n",
        "           df_new.columns[7]: 'distance',\n",
        "           df_new.columns[8]: 'total_amount'}\n",
        "    yellow_taxi = df_new.rename(columns=mapping)\n",
        "    yellow_taxi_clean = yellow_taxi.dropna()\n",
        "    filter = yellow_taxi_clean.loc[yellow_taxi_clean.pickup_longitude.between(-74.242330,-73.717047) & yellow_taxi_clean.dropoff_longitude.between(-74.242330,-73.717047) \n",
        "    & yellow_taxi_clean.pickup_latitude.between(40.560445,40.908524)& yellow_taxi_clean.dropoff_latitude.between(40.560445,40.908524)]\n",
        "    sample= filter.sample(n=2564)\n",
        "    sample.reset_index(drop=True, inplace=True)\n",
        "    return sample\n",
        "\n",
        "    \n",
        "\n",
        "def get_and_clean_taxi_data():\n",
        "    all_taxi_dataframes = []\n",
        "    \n",
        "    all_csv_urls = find_taxi_csv_urls(TAXI_URL)\n",
        "    for csv_url in all_csv_urls[:2]:\n",
        "        # maybe: first try to see if you've downloaded this exact\n",
        "        # file already and saved it before trying again\n",
        "        dataframe = get_and_clean_month_taxi_data(csv_url)\n",
        "        re=add_distance_column(dataframe)\n",
        "        # maybe: if the file hasn't been saved, save it so you can\n",
        "        # avoid re-downloading it if you re-run the function\n",
        "        \n",
        "        #save monthly cleaned data into drive\n",
        "        from pathlib import Path\n",
        "        #get the month of the cleaned data\n",
        "        month = csv_url[-11:]\n",
        "        #create path for the month\n",
        "        filepath = Path(f'/content/drive/MyDrive/TFA_test/monthly_data/{month}') \n",
        "        #check whether there is an existing parent path:\n",
        "        #if there is, save file under the path; if there isn't, create a new parent path\n",
        "        filepath.parent.mkdir(parents=True, exist_ok=True)  \n",
        "        re.to_csv(filepath, index=False)  \n",
        "        all_taxi_dataframes.append(re)\n",
        "\n",
        "    # create one gigantic dataframe with data from every month needed\n",
        "    taxi_data = pd.concat(all_taxi_dataframes)\n",
        "    \n",
        "    #save the aggregate cleaned data into drive\n",
        "    filepath = Path('/content/drive/MyDrive/TFA_test/taxi.csv')  \n",
        "    filepath.parent.mkdir(parents=True, exist_ok=True)  \n",
        "    taxi_data.to_csv(filepath, index=False)  \n",
        "    return taxi_data"
      ],
      "id": "cbd0d198"
    },
    {
      "cell_type": "code",
      "execution_count": null,
      "metadata": {
        "colab": {
          "background_save": true,
          "base_uri": "https://localhost:8080/"
        },
        "id": "KP6-hjfpOTDw",
        "outputId": "47dcbef7-6b8c-4d23-f29c-e3ac22066169"
      },
      "outputs": [
        {
          "name": "stdout",
          "output_type": "stream",
          "text": [
            "2564\n",
            "2564\n"
          ]
        },
        {
          "data": {
            "text/html": [
              "\n",
              "  <div id=\"df-54608a75-953c-4b28-a8dc-8a997a8accd5\">\n",
              "    <div class=\"colab-df-container\">\n",
              "      <div>\n",
              "<style scoped>\n",
              "    .dataframe tbody tr th:only-of-type {\n",
              "        vertical-align: middle;\n",
              "    }\n",
              "\n",
              "    .dataframe tbody tr th {\n",
              "        vertical-align: top;\n",
              "    }\n",
              "\n",
              "    .dataframe thead th {\n",
              "        text-align: right;\n",
              "    }\n",
              "</style>\n",
              "<table border=\"1\" class=\"dataframe\">\n",
              "  <thead>\n",
              "    <tr style=\"text-align: right;\">\n",
              "      <th></th>\n",
              "      <th>pickup_datetime</th>\n",
              "      <th>dropoff_datetime</th>\n",
              "      <th>pickup_longitude</th>\n",
              "      <th>dropoff_longitude</th>\n",
              "      <th>pickup_latitude</th>\n",
              "      <th>dropoff_latitude</th>\n",
              "      <th>tip</th>\n",
              "      <th>distance</th>\n",
              "      <th>total_amount</th>\n",
              "      <th>coordinate_distance</th>\n",
              "    </tr>\n",
              "  </thead>\n",
              "  <tbody>\n",
              "    <tr>\n",
              "      <th>0</th>\n",
              "      <td>2015-01-30 04:04:05</td>\n",
              "      <td>2015-01-30 04:09:55</td>\n",
              "      <td>-73.990761</td>\n",
              "      <td>-73.988037</td>\n",
              "      <td>40.761074</td>\n",
              "      <td>40.774895</td>\n",
              "      <td>1.00</td>\n",
              "      <td>1.30</td>\n",
              "      <td>8.80</td>\n",
              "      <td>1.553809</td>\n",
              "    </tr>\n",
              "    <tr>\n",
              "      <th>1</th>\n",
              "      <td>2015-01-24 10:57:38</td>\n",
              "      <td>2015-01-24 11:01:28</td>\n",
              "      <td>-73.982292</td>\n",
              "      <td>-73.993599</td>\n",
              "      <td>40.767464</td>\n",
              "      <td>40.767456</td>\n",
              "      <td>1.70</td>\n",
              "      <td>0.90</td>\n",
              "      <td>7.50</td>\n",
              "      <td>0.952202</td>\n",
              "    </tr>\n",
              "    <tr>\n",
              "      <th>2</th>\n",
              "      <td>2015-01-12 23:32:16</td>\n",
              "      <td>2015-01-12 23:41:49</td>\n",
              "      <td>-74.004448</td>\n",
              "      <td>-73.977867</td>\n",
              "      <td>40.741833</td>\n",
              "      <td>40.746510</td>\n",
              "      <td>2.50</td>\n",
              "      <td>2.23</td>\n",
              "      <td>13.30</td>\n",
              "      <td>2.298886</td>\n",
              "    </tr>\n",
              "    <tr>\n",
              "      <th>3</th>\n",
              "      <td>2015-01-26 13:47:44</td>\n",
              "      <td>2015-01-26 14:02:43</td>\n",
              "      <td>-73.961525</td>\n",
              "      <td>-73.978668</td>\n",
              "      <td>40.764145</td>\n",
              "      <td>40.782700</td>\n",
              "      <td>2.00</td>\n",
              "      <td>2.30</td>\n",
              "      <td>14.30</td>\n",
              "      <td>2.518075</td>\n",
              "    </tr>\n",
              "    <tr>\n",
              "      <th>4</th>\n",
              "      <td>2015-01-17 16:07:23</td>\n",
              "      <td>2015-01-17 16:26:36</td>\n",
              "      <td>-73.962120</td>\n",
              "      <td>-73.969826</td>\n",
              "      <td>40.778973</td>\n",
              "      <td>40.752274</td>\n",
              "      <td>0.00</td>\n",
              "      <td>2.34</td>\n",
              "      <td>14.30</td>\n",
              "      <td>3.038901</td>\n",
              "    </tr>\n",
              "    <tr>\n",
              "      <th>...</th>\n",
              "      <td>...</td>\n",
              "      <td>...</td>\n",
              "      <td>...</td>\n",
              "      <td>...</td>\n",
              "      <td>...</td>\n",
              "      <td>...</td>\n",
              "      <td>...</td>\n",
              "      <td>...</td>\n",
              "      <td>...</td>\n",
              "      <td>...</td>\n",
              "    </tr>\n",
              "    <tr>\n",
              "      <th>2559</th>\n",
              "      <td>2015-02-15 01:09:32</td>\n",
              "      <td>2015-02-15 01:26:51</td>\n",
              "      <td>-73.990044</td>\n",
              "      <td>-73.945816</td>\n",
              "      <td>40.733906</td>\n",
              "      <td>40.707806</td>\n",
              "      <td>4.20</td>\n",
              "      <td>4.38</td>\n",
              "      <td>21.00</td>\n",
              "      <td>4.723895</td>\n",
              "    </tr>\n",
              "    <tr>\n",
              "      <th>2560</th>\n",
              "      <td>2015-02-19 11:13:33</td>\n",
              "      <td>2015-02-19 11:30:01</td>\n",
              "      <td>-73.994690</td>\n",
              "      <td>-73.993462</td>\n",
              "      <td>40.743736</td>\n",
              "      <td>40.752785</td>\n",
              "      <td>0.00</td>\n",
              "      <td>0.80</td>\n",
              "      <td>11.80</td>\n",
              "      <td>1.011450</td>\n",
              "    </tr>\n",
              "    <tr>\n",
              "      <th>2561</th>\n",
              "      <td>2015-02-14 01:24:41</td>\n",
              "      <td>2015-02-14 01:26:50</td>\n",
              "      <td>-73.880737</td>\n",
              "      <td>-73.883804</td>\n",
              "      <td>40.748032</td>\n",
              "      <td>40.747128</td>\n",
              "      <td>0.00</td>\n",
              "      <td>0.20</td>\n",
              "      <td>4.30</td>\n",
              "      <td>0.277236</td>\n",
              "    </tr>\n",
              "    <tr>\n",
              "      <th>2562</th>\n",
              "      <td>2015-02-23 21:21:34</td>\n",
              "      <td>2015-02-23 21:36:14</td>\n",
              "      <td>-74.000328</td>\n",
              "      <td>-73.978104</td>\n",
              "      <td>40.718369</td>\n",
              "      <td>40.663528</td>\n",
              "      <td>3.26</td>\n",
              "      <td>4.30</td>\n",
              "      <td>19.56</td>\n",
              "      <td>6.379338</td>\n",
              "    </tr>\n",
              "    <tr>\n",
              "      <th>2563</th>\n",
              "      <td>2015-02-07 18:05:56</td>\n",
              "      <td>2015-02-07 18:20:57</td>\n",
              "      <td>-74.002274</td>\n",
              "      <td>-73.976822</td>\n",
              "      <td>40.729519</td>\n",
              "      <td>40.739635</td>\n",
              "      <td>2.30</td>\n",
              "      <td>2.15</td>\n",
              "      <td>14.60</td>\n",
              "      <td>2.421614</td>\n",
              "    </tr>\n",
              "  </tbody>\n",
              "</table>\n",
              "<p>5128 rows × 10 columns</p>\n",
              "</div>\n",
              "      <button class=\"colab-df-convert\" onclick=\"convertToInteractive('df-54608a75-953c-4b28-a8dc-8a997a8accd5')\"\n",
              "              title=\"Convert this dataframe to an interactive table.\"\n",
              "              style=\"display:none;\">\n",
              "        \n",
              "  <svg xmlns=\"http://www.w3.org/2000/svg\" height=\"24px\"viewBox=\"0 0 24 24\"\n",
              "       width=\"24px\">\n",
              "    <path d=\"M0 0h24v24H0V0z\" fill=\"none\"/>\n",
              "    <path d=\"M18.56 5.44l.94 2.06.94-2.06 2.06-.94-2.06-.94-.94-2.06-.94 2.06-2.06.94zm-11 1L8.5 8.5l.94-2.06 2.06-.94-2.06-.94L8.5 2.5l-.94 2.06-2.06.94zm10 10l.94 2.06.94-2.06 2.06-.94-2.06-.94-.94-2.06-.94 2.06-2.06.94z\"/><path d=\"M17.41 7.96l-1.37-1.37c-.4-.4-.92-.59-1.43-.59-.52 0-1.04.2-1.43.59L10.3 9.45l-7.72 7.72c-.78.78-.78 2.05 0 2.83L4 21.41c.39.39.9.59 1.41.59.51 0 1.02-.2 1.41-.59l7.78-7.78 2.81-2.81c.8-.78.8-2.07 0-2.86zM5.41 20L4 18.59l7.72-7.72 1.47 1.35L5.41 20z\"/>\n",
              "  </svg>\n",
              "      </button>\n",
              "      \n",
              "  <style>\n",
              "    .colab-df-container {\n",
              "      display:flex;\n",
              "      flex-wrap:wrap;\n",
              "      gap: 12px;\n",
              "    }\n",
              "\n",
              "    .colab-df-convert {\n",
              "      background-color: #E8F0FE;\n",
              "      border: none;\n",
              "      border-radius: 50%;\n",
              "      cursor: pointer;\n",
              "      display: none;\n",
              "      fill: #1967D2;\n",
              "      height: 32px;\n",
              "      padding: 0 0 0 0;\n",
              "      width: 32px;\n",
              "    }\n",
              "\n",
              "    .colab-df-convert:hover {\n",
              "      background-color: #E2EBFA;\n",
              "      box-shadow: 0px 1px 2px rgba(60, 64, 67, 0.3), 0px 1px 3px 1px rgba(60, 64, 67, 0.15);\n",
              "      fill: #174EA6;\n",
              "    }\n",
              "\n",
              "    [theme=dark] .colab-df-convert {\n",
              "      background-color: #3B4455;\n",
              "      fill: #D2E3FC;\n",
              "    }\n",
              "\n",
              "    [theme=dark] .colab-df-convert:hover {\n",
              "      background-color: #434B5C;\n",
              "      box-shadow: 0px 1px 3px 1px rgba(0, 0, 0, 0.15);\n",
              "      filter: drop-shadow(0px 1px 2px rgba(0, 0, 0, 0.3));\n",
              "      fill: #FFFFFF;\n",
              "    }\n",
              "  </style>\n",
              "\n",
              "      <script>\n",
              "        const buttonEl =\n",
              "          document.querySelector('#df-54608a75-953c-4b28-a8dc-8a997a8accd5 button.colab-df-convert');\n",
              "        buttonEl.style.display =\n",
              "          google.colab.kernel.accessAllowed ? 'block' : 'none';\n",
              "\n",
              "        async function convertToInteractive(key) {\n",
              "          const element = document.querySelector('#df-54608a75-953c-4b28-a8dc-8a997a8accd5');\n",
              "          const dataTable =\n",
              "            await google.colab.kernel.invokeFunction('convertToInteractive',\n",
              "                                                     [key], {});\n",
              "          if (!dataTable) return;\n",
              "\n",
              "          const docLinkHtml = 'Like what you see? Visit the ' +\n",
              "            '<a target=\"_blank\" href=https://colab.research.google.com/notebooks/data_table.ipynb>data table notebook</a>'\n",
              "            + ' to learn more about interactive tables.';\n",
              "          element.innerHTML = '';\n",
              "          dataTable['output_type'] = 'display_data';\n",
              "          await google.colab.output.renderOutput(dataTable, element);\n",
              "          const docLink = document.createElement('div');\n",
              "          docLink.innerHTML = docLinkHtml;\n",
              "          element.appendChild(docLink);\n",
              "        }\n",
              "      </script>\n",
              "    </div>\n",
              "  </div>\n",
              "  "
            ],
            "text/plain": [
              "          pickup_datetime     dropoff_datetime  pickup_longitude  \\\n",
              "0     2015-01-30 04:04:05  2015-01-30 04:09:55        -73.990761   \n",
              "1     2015-01-24 10:57:38  2015-01-24 11:01:28        -73.982292   \n",
              "2     2015-01-12 23:32:16  2015-01-12 23:41:49        -74.004448   \n",
              "3     2015-01-26 13:47:44  2015-01-26 14:02:43        -73.961525   \n",
              "4     2015-01-17 16:07:23  2015-01-17 16:26:36        -73.962120   \n",
              "...                   ...                  ...               ...   \n",
              "2559  2015-02-15 01:09:32  2015-02-15 01:26:51        -73.990044   \n",
              "2560  2015-02-19 11:13:33  2015-02-19 11:30:01        -73.994690   \n",
              "2561  2015-02-14 01:24:41  2015-02-14 01:26:50        -73.880737   \n",
              "2562  2015-02-23 21:21:34  2015-02-23 21:36:14        -74.000328   \n",
              "2563  2015-02-07 18:05:56  2015-02-07 18:20:57        -74.002274   \n",
              "\n",
              "      dropoff_longitude  pickup_latitude  dropoff_latitude   tip  distance  \\\n",
              "0            -73.988037        40.761074         40.774895  1.00      1.30   \n",
              "1            -73.993599        40.767464         40.767456  1.70      0.90   \n",
              "2            -73.977867        40.741833         40.746510  2.50      2.23   \n",
              "3            -73.978668        40.764145         40.782700  2.00      2.30   \n",
              "4            -73.969826        40.778973         40.752274  0.00      2.34   \n",
              "...                 ...              ...               ...   ...       ...   \n",
              "2559         -73.945816        40.733906         40.707806  4.20      4.38   \n",
              "2560         -73.993462        40.743736         40.752785  0.00      0.80   \n",
              "2561         -73.883804        40.748032         40.747128  0.00      0.20   \n",
              "2562         -73.978104        40.718369         40.663528  3.26      4.30   \n",
              "2563         -73.976822        40.729519         40.739635  2.30      2.15   \n",
              "\n",
              "      total_amount  coordinate_distance  \n",
              "0             8.80             1.553809  \n",
              "1             7.50             0.952202  \n",
              "2            13.30             2.298886  \n",
              "3            14.30             2.518075  \n",
              "4            14.30             3.038901  \n",
              "...            ...                  ...  \n",
              "2559         21.00             4.723895  \n",
              "2560         11.80             1.011450  \n",
              "2561          4.30             0.277236  \n",
              "2562         19.56             6.379338  \n",
              "2563         14.60             2.421614  \n",
              "\n",
              "[5128 rows x 10 columns]"
            ]
          },
          "execution_count": null,
          "metadata": {},
          "output_type": "execute_result"
        }
      ],
      "source": [
        "get_and_clean_taxi_data()"
      ],
      "id": "KP6-hjfpOTDw"
    },
    {
      "cell_type": "code",
      "execution_count": null,
      "metadata": {
        "colab": {
          "background_save": true
        },
        "id": "dV-SEbI60gGe",
        "outputId": "91c831c0-4904-4c00-d9e7-b31147a2b0f8"
      },
      "outputs": [
        {
          "data": {
            "text/html": [
              "\n",
              "  <div id=\"df-58fb0b59-8fe5-4382-ac2a-467010d53769\">\n",
              "    <div class=\"colab-df-container\">\n",
              "      <div>\n",
              "<style scoped>\n",
              "    .dataframe tbody tr th:only-of-type {\n",
              "        vertical-align: middle;\n",
              "    }\n",
              "\n",
              "    .dataframe tbody tr th {\n",
              "        vertical-align: top;\n",
              "    }\n",
              "\n",
              "    .dataframe thead th {\n",
              "        text-align: right;\n",
              "    }\n",
              "</style>\n",
              "<table border=\"1\" class=\"dataframe\">\n",
              "  <thead>\n",
              "    <tr style=\"text-align: right;\">\n",
              "      <th></th>\n",
              "      <th>pickup_datetime</th>\n",
              "      <th>dropoff_datetime</th>\n",
              "      <th>pickup_longitude</th>\n",
              "      <th>dropoff_longitude</th>\n",
              "      <th>pickup_latitude</th>\n",
              "      <th>dropoff_latitude</th>\n",
              "      <th>tip</th>\n",
              "      <th>distance</th>\n",
              "      <th>total_amount</th>\n",
              "      <th>coordinate_distance</th>\n",
              "    </tr>\n",
              "  </thead>\n",
              "  <tbody>\n",
              "    <tr>\n",
              "      <th>0</th>\n",
              "      <td>2015-01-30 04:04:05</td>\n",
              "      <td>2015-01-30 04:09:55</td>\n",
              "      <td>-73.990761</td>\n",
              "      <td>-73.988037</td>\n",
              "      <td>40.761074</td>\n",
              "      <td>40.774895</td>\n",
              "      <td>1.0</td>\n",
              "      <td>1.30</td>\n",
              "      <td>8.8</td>\n",
              "      <td>1.553809</td>\n",
              "    </tr>\n",
              "    <tr>\n",
              "      <th>1</th>\n",
              "      <td>2015-01-24 10:57:38</td>\n",
              "      <td>2015-01-24 11:01:28</td>\n",
              "      <td>-73.982292</td>\n",
              "      <td>-73.993599</td>\n",
              "      <td>40.767464</td>\n",
              "      <td>40.767456</td>\n",
              "      <td>1.7</td>\n",
              "      <td>0.90</td>\n",
              "      <td>7.5</td>\n",
              "      <td>0.952202</td>\n",
              "    </tr>\n",
              "    <tr>\n",
              "      <th>2</th>\n",
              "      <td>2015-01-12 23:32:16</td>\n",
              "      <td>2015-01-12 23:41:49</td>\n",
              "      <td>-74.004448</td>\n",
              "      <td>-73.977867</td>\n",
              "      <td>40.741833</td>\n",
              "      <td>40.746510</td>\n",
              "      <td>2.5</td>\n",
              "      <td>2.23</td>\n",
              "      <td>13.3</td>\n",
              "      <td>2.298886</td>\n",
              "    </tr>\n",
              "    <tr>\n",
              "      <th>3</th>\n",
              "      <td>2015-01-26 13:47:44</td>\n",
              "      <td>2015-01-26 14:02:43</td>\n",
              "      <td>-73.961525</td>\n",
              "      <td>-73.978668</td>\n",
              "      <td>40.764145</td>\n",
              "      <td>40.782700</td>\n",
              "      <td>2.0</td>\n",
              "      <td>2.30</td>\n",
              "      <td>14.3</td>\n",
              "      <td>2.518075</td>\n",
              "    </tr>\n",
              "    <tr>\n",
              "      <th>4</th>\n",
              "      <td>2015-01-17 16:07:23</td>\n",
              "      <td>2015-01-17 16:26:36</td>\n",
              "      <td>-73.962120</td>\n",
              "      <td>-73.969826</td>\n",
              "      <td>40.778973</td>\n",
              "      <td>40.752274</td>\n",
              "      <td>0.0</td>\n",
              "      <td>2.34</td>\n",
              "      <td>14.3</td>\n",
              "      <td>3.038901</td>\n",
              "    </tr>\n",
              "    <tr>\n",
              "      <th>...</th>\n",
              "      <td>...</td>\n",
              "      <td>...</td>\n",
              "      <td>...</td>\n",
              "      <td>...</td>\n",
              "      <td>...</td>\n",
              "      <td>...</td>\n",
              "      <td>...</td>\n",
              "      <td>...</td>\n",
              "      <td>...</td>\n",
              "      <td>...</td>\n",
              "    </tr>\n",
              "    <tr>\n",
              "      <th>2559</th>\n",
              "      <td>2015-01-22 06:28:01</td>\n",
              "      <td>2015-01-22 06:33:10</td>\n",
              "      <td>-73.985596</td>\n",
              "      <td>-73.973907</td>\n",
              "      <td>40.746777</td>\n",
              "      <td>40.738548</td>\n",
              "      <td>0.0</td>\n",
              "      <td>0.99</td>\n",
              "      <td>6.3</td>\n",
              "      <td>1.344154</td>\n",
              "    </tr>\n",
              "    <tr>\n",
              "      <th>2560</th>\n",
              "      <td>2015-01-01 03:20:21</td>\n",
              "      <td>2015-01-01 03:29:38</td>\n",
              "      <td>-73.981796</td>\n",
              "      <td>-73.973862</td>\n",
              "      <td>40.773380</td>\n",
              "      <td>40.794209</td>\n",
              "      <td>0.0</td>\n",
              "      <td>2.19</td>\n",
              "      <td>10.3</td>\n",
              "      <td>2.410420</td>\n",
              "    </tr>\n",
              "    <tr>\n",
              "      <th>2561</th>\n",
              "      <td>2015-01-03 01:19:36</td>\n",
              "      <td>2015-01-03 01:27:40</td>\n",
              "      <td>-73.970566</td>\n",
              "      <td>-73.948929</td>\n",
              "      <td>40.755997</td>\n",
              "      <td>40.783283</td>\n",
              "      <td>2.0</td>\n",
              "      <td>2.30</td>\n",
              "      <td>12.3</td>\n",
              "      <td>3.539204</td>\n",
              "    </tr>\n",
              "    <tr>\n",
              "      <th>2562</th>\n",
              "      <td>2015-01-28 17:30:20</td>\n",
              "      <td>2015-01-28 17:44:16</td>\n",
              "      <td>-73.966820</td>\n",
              "      <td>-73.952919</td>\n",
              "      <td>40.761513</td>\n",
              "      <td>40.742374</td>\n",
              "      <td>1.7</td>\n",
              "      <td>2.80</td>\n",
              "      <td>16.0</td>\n",
              "      <td>2.428955</td>\n",
              "    </tr>\n",
              "    <tr>\n",
              "      <th>2563</th>\n",
              "      <td>2015-01-26 09:51:49</td>\n",
              "      <td>2015-01-26 09:59:47</td>\n",
              "      <td>-73.984993</td>\n",
              "      <td>-73.969612</td>\n",
              "      <td>40.760746</td>\n",
              "      <td>40.767879</td>\n",
              "      <td>0.0</td>\n",
              "      <td>1.50</td>\n",
              "      <td>8.3</td>\n",
              "      <td>1.518929</td>\n",
              "    </tr>\n",
              "  </tbody>\n",
              "</table>\n",
              "<p>2564 rows × 10 columns</p>\n",
              "</div>\n",
              "      <button class=\"colab-df-convert\" onclick=\"convertToInteractive('df-58fb0b59-8fe5-4382-ac2a-467010d53769')\"\n",
              "              title=\"Convert this dataframe to an interactive table.\"\n",
              "              style=\"display:none;\">\n",
              "        \n",
              "  <svg xmlns=\"http://www.w3.org/2000/svg\" height=\"24px\"viewBox=\"0 0 24 24\"\n",
              "       width=\"24px\">\n",
              "    <path d=\"M0 0h24v24H0V0z\" fill=\"none\"/>\n",
              "    <path d=\"M18.56 5.44l.94 2.06.94-2.06 2.06-.94-2.06-.94-.94-2.06-.94 2.06-2.06.94zm-11 1L8.5 8.5l.94-2.06 2.06-.94-2.06-.94L8.5 2.5l-.94 2.06-2.06.94zm10 10l.94 2.06.94-2.06 2.06-.94-2.06-.94-.94-2.06-.94 2.06-2.06.94z\"/><path d=\"M17.41 7.96l-1.37-1.37c-.4-.4-.92-.59-1.43-.59-.52 0-1.04.2-1.43.59L10.3 9.45l-7.72 7.72c-.78.78-.78 2.05 0 2.83L4 21.41c.39.39.9.59 1.41.59.51 0 1.02-.2 1.41-.59l7.78-7.78 2.81-2.81c.8-.78.8-2.07 0-2.86zM5.41 20L4 18.59l7.72-7.72 1.47 1.35L5.41 20z\"/>\n",
              "  </svg>\n",
              "      </button>\n",
              "      \n",
              "  <style>\n",
              "    .colab-df-container {\n",
              "      display:flex;\n",
              "      flex-wrap:wrap;\n",
              "      gap: 12px;\n",
              "    }\n",
              "\n",
              "    .colab-df-convert {\n",
              "      background-color: #E8F0FE;\n",
              "      border: none;\n",
              "      border-radius: 50%;\n",
              "      cursor: pointer;\n",
              "      display: none;\n",
              "      fill: #1967D2;\n",
              "      height: 32px;\n",
              "      padding: 0 0 0 0;\n",
              "      width: 32px;\n",
              "    }\n",
              "\n",
              "    .colab-df-convert:hover {\n",
              "      background-color: #E2EBFA;\n",
              "      box-shadow: 0px 1px 2px rgba(60, 64, 67, 0.3), 0px 1px 3px 1px rgba(60, 64, 67, 0.15);\n",
              "      fill: #174EA6;\n",
              "    }\n",
              "\n",
              "    [theme=dark] .colab-df-convert {\n",
              "      background-color: #3B4455;\n",
              "      fill: #D2E3FC;\n",
              "    }\n",
              "\n",
              "    [theme=dark] .colab-df-convert:hover {\n",
              "      background-color: #434B5C;\n",
              "      box-shadow: 0px 1px 3px 1px rgba(0, 0, 0, 0.15);\n",
              "      filter: drop-shadow(0px 1px 2px rgba(0, 0, 0, 0.3));\n",
              "      fill: #FFFFFF;\n",
              "    }\n",
              "  </style>\n",
              "\n",
              "      <script>\n",
              "        const buttonEl =\n",
              "          document.querySelector('#df-58fb0b59-8fe5-4382-ac2a-467010d53769 button.colab-df-convert');\n",
              "        buttonEl.style.display =\n",
              "          google.colab.kernel.accessAllowed ? 'block' : 'none';\n",
              "\n",
              "        async function convertToInteractive(key) {\n",
              "          const element = document.querySelector('#df-58fb0b59-8fe5-4382-ac2a-467010d53769');\n",
              "          const dataTable =\n",
              "            await google.colab.kernel.invokeFunction('convertToInteractive',\n",
              "                                                     [key], {});\n",
              "          if (!dataTable) return;\n",
              "\n",
              "          const docLinkHtml = 'Like what you see? Visit the ' +\n",
              "            '<a target=\"_blank\" href=https://colab.research.google.com/notebooks/data_table.ipynb>data table notebook</a>'\n",
              "            + ' to learn more about interactive tables.';\n",
              "          element.innerHTML = '';\n",
              "          dataTable['output_type'] = 'display_data';\n",
              "          await google.colab.output.renderOutput(dataTable, element);\n",
              "          const docLink = document.createElement('div');\n",
              "          docLink.innerHTML = docLinkHtml;\n",
              "          element.appendChild(docLink);\n",
              "        }\n",
              "      </script>\n",
              "    </div>\n",
              "  </div>\n",
              "  "
            ],
            "text/plain": [
              "          pickup_datetime     dropoff_datetime  pickup_longitude  \\\n",
              "0     2015-01-30 04:04:05  2015-01-30 04:09:55        -73.990761   \n",
              "1     2015-01-24 10:57:38  2015-01-24 11:01:28        -73.982292   \n",
              "2     2015-01-12 23:32:16  2015-01-12 23:41:49        -74.004448   \n",
              "3     2015-01-26 13:47:44  2015-01-26 14:02:43        -73.961525   \n",
              "4     2015-01-17 16:07:23  2015-01-17 16:26:36        -73.962120   \n",
              "...                   ...                  ...               ...   \n",
              "2559  2015-01-22 06:28:01  2015-01-22 06:33:10        -73.985596   \n",
              "2560  2015-01-01 03:20:21  2015-01-01 03:29:38        -73.981796   \n",
              "2561  2015-01-03 01:19:36  2015-01-03 01:27:40        -73.970566   \n",
              "2562  2015-01-28 17:30:20  2015-01-28 17:44:16        -73.966820   \n",
              "2563  2015-01-26 09:51:49  2015-01-26 09:59:47        -73.984993   \n",
              "\n",
              "      dropoff_longitude  pickup_latitude  dropoff_latitude  tip  distance  \\\n",
              "0            -73.988037        40.761074         40.774895  1.0      1.30   \n",
              "1            -73.993599        40.767464         40.767456  1.7      0.90   \n",
              "2            -73.977867        40.741833         40.746510  2.5      2.23   \n",
              "3            -73.978668        40.764145         40.782700  2.0      2.30   \n",
              "4            -73.969826        40.778973         40.752274  0.0      2.34   \n",
              "...                 ...              ...               ...  ...       ...   \n",
              "2559         -73.973907        40.746777         40.738548  0.0      0.99   \n",
              "2560         -73.973862        40.773380         40.794209  0.0      2.19   \n",
              "2561         -73.948929        40.755997         40.783283  2.0      2.30   \n",
              "2562         -73.952919        40.761513         40.742374  1.7      2.80   \n",
              "2563         -73.969612        40.760746         40.767879  0.0      1.50   \n",
              "\n",
              "      total_amount  coordinate_distance  \n",
              "0              8.8             1.553809  \n",
              "1              7.5             0.952202  \n",
              "2             13.3             2.298886  \n",
              "3             14.3             2.518075  \n",
              "4             14.3             3.038901  \n",
              "...            ...                  ...  \n",
              "2559           6.3             1.344154  \n",
              "2560          10.3             2.410420  \n",
              "2561          12.3             3.539204  \n",
              "2562          16.0             2.428955  \n",
              "2563           8.3             1.518929  \n",
              "\n",
              "[2564 rows x 10 columns]"
            ]
          },
          "execution_count": null,
          "metadata": {},
          "output_type": "execute_result"
        }
      ],
      "source": [
        "pd.read_csv('/content/drive/MyDrive/TFA_test/monthly_data/2015-01.csv')"
      ],
      "id": "dV-SEbI60gGe"
    },
    {
      "cell_type": "code",
      "execution_count": null,
      "metadata": {
        "id": "x4u5tBJd_O5B"
      },
      "outputs": [],
      "source": [
        "ans.columns = ans.columns.str.lower()\n",
        "words = ['time', 'lon', 'lat', 'tip', 'distance','total']\n",
        "df = pd.DataFrame()\n",
        "for i in words:\n",
        "  col=ans.loc[:,ans.columns.str.contains(i)]\n",
        "  df=pd.concat([df, col], axis=1)\n",
        "df  \n",
        "#ans.loc[:,[ans.columns.str.contains(i) for i in words]]\n"
      ],
      "id": "x4u5tBJd_O5B"
    },
    {
      "cell_type": "code",
      "execution_count": null,
      "metadata": {
        "id": "_15BWXsXIj0Q"
      },
      "outputs": [],
      "source": [
        "#find_taxi_csv_urls(TAXI_URL)"
      ],
      "id": "_15BWXsXIj0Q"
    },
    {
      "cell_type": "code",
      "execution_count": null,
      "metadata": {
        "id": "8lAxIPwuXr81"
      },
      "outputs": [],
      "source": [
        "mapping = {df.columns[0]:'pickup_datetime', \n",
        "           df.columns[1]: 'dropoff_datetime', \n",
        "           df.columns[2]: 'pickup_longitude', \n",
        "           df.columns[3]: 'dropoff_longitude',\n",
        "           df.columns[4]: 'pickup_latitude',\n",
        "           df.columns[5]: 'dropoff_latitude',\n",
        "           df.columns[6]: 'tip',\n",
        "           df.columns[7]: 'distance',\n",
        "           df.columns[8]: 'total_amount'}\n",
        "yellow_taxi = df.rename(columns=mapping)"
      ],
      "id": "8lAxIPwuXr81"
    },
    {
      "cell_type": "code",
      "execution_count": null,
      "metadata": {
        "id": "p5VhwU1T5-e4"
      },
      "outputs": [],
      "source": [
        "yellow_taxi.isnull().sum()\n",
        "yellow_taxi_clean = yellow_taxi.dropna()"
      ],
      "id": "p5VhwU1T5-e4"
    },
    {
      "cell_type": "code",
      "execution_count": null,
      "metadata": {
        "id": "uYHydC3c5WLd"
      },
      "outputs": [],
      "source": [
        "filter = yellow_taxi_clean.loc[yellow_taxi_clean.pickup_longitude.between(-74.242330,-73.717047) \n",
        "& yellow_taxi_clean.dropoff_longitude.between(-74.242330,-73.717047) \n",
        "& yellow_taxi_clean.pickup_latitude.between(40.560445,40.908524)\n",
        "& yellow_taxi_clean.dropoff_latitude.between(40.560445,40.908524)\n",
        "]"
      ],
      "id": "uYHydC3c5WLd"
    },
    {
      "cell_type": "code",
      "execution_count": null,
      "metadata": {
        "id": "zo-PWGHeD6s1"
      },
      "outputs": [],
      "source": [
        "filter"
      ],
      "id": "zo-PWGHeD6s1"
    },
    {
      "cell_type": "code",
      "execution_count": null,
      "metadata": {
        "id": "lqgfSWsj58X9"
      },
      "outputs": [],
      "source": [
        "filter.sample(n=2564)"
      ],
      "id": "lqgfSWsj58X9"
    },
    {
      "cell_type": "markdown",
      "metadata": {
        "id": "094b4d6d"
      },
      "source": [
        "### Processing Uber Data\n",
        "\n",
        "_Write some prose that tells the reader what you're about to do here._"
      ],
      "id": "094b4d6d"
    },
    {
      "cell_type": "code",
      "execution_count": null,
      "metadata": {
        "colab": {
          "base_uri": "https://localhost:8080/",
          "height": 441
        },
        "id": "7c58e3a2",
        "outputId": "4dc2c717-62af-427f-d15b-617882751acf"
      },
      "outputs": [
        {
          "name": "stdout",
          "output_type": "stream",
          "text": [
            "195472\n"
          ]
        },
        {
          "data": {
            "text/html": [
              "\n",
              "  <div id=\"df-4e3b3f5d-8423-4eea-a255-44a798a18191\">\n",
              "    <div class=\"colab-df-container\">\n",
              "      <div>\n",
              "<style scoped>\n",
              "    .dataframe tbody tr th:only-of-type {\n",
              "        vertical-align: middle;\n",
              "    }\n",
              "\n",
              "    .dataframe tbody tr th {\n",
              "        vertical-align: top;\n",
              "    }\n",
              "\n",
              "    .dataframe thead th {\n",
              "        text-align: right;\n",
              "    }\n",
              "</style>\n",
              "<table border=\"1\" class=\"dataframe\">\n",
              "  <thead>\n",
              "    <tr style=\"text-align: right;\">\n",
              "      <th></th>\n",
              "      <th>fare_amount</th>\n",
              "      <th>pickup_datetime</th>\n",
              "      <th>pickup_longitude</th>\n",
              "      <th>pickup_latitude</th>\n",
              "      <th>dropoff_longitude</th>\n",
              "      <th>dropoff_latitude</th>\n",
              "      <th>coordinate_distance</th>\n",
              "    </tr>\n",
              "  </thead>\n",
              "  <tbody>\n",
              "    <tr>\n",
              "      <th>0</th>\n",
              "      <td>7.5</td>\n",
              "      <td>2015-05-07 19:52:06 UTC</td>\n",
              "      <td>-73.999817</td>\n",
              "      <td>40.738354</td>\n",
              "      <td>-73.999512</td>\n",
              "      <td>40.723217</td>\n",
              "      <td>1.683323</td>\n",
              "    </tr>\n",
              "    <tr>\n",
              "      <th>1</th>\n",
              "      <td>7.7</td>\n",
              "      <td>2009-07-17 20:04:56 UTC</td>\n",
              "      <td>-73.994355</td>\n",
              "      <td>40.728225</td>\n",
              "      <td>-73.994710</td>\n",
              "      <td>40.750325</td>\n",
              "      <td>2.457590</td>\n",
              "    </tr>\n",
              "    <tr>\n",
              "      <th>2</th>\n",
              "      <td>12.9</td>\n",
              "      <td>2009-08-24 21:45:00 UTC</td>\n",
              "      <td>-74.005043</td>\n",
              "      <td>40.740770</td>\n",
              "      <td>-73.962565</td>\n",
              "      <td>40.772647</td>\n",
              "      <td>5.036377</td>\n",
              "    </tr>\n",
              "    <tr>\n",
              "      <th>3</th>\n",
              "      <td>5.3</td>\n",
              "      <td>2009-06-26 08:22:21 UTC</td>\n",
              "      <td>-73.976124</td>\n",
              "      <td>40.790844</td>\n",
              "      <td>-73.965316</td>\n",
              "      <td>40.803349</td>\n",
              "      <td>1.661683</td>\n",
              "    </tr>\n",
              "    <tr>\n",
              "      <th>4</th>\n",
              "      <td>16.0</td>\n",
              "      <td>2014-08-28 17:47:00 UTC</td>\n",
              "      <td>-73.925023</td>\n",
              "      <td>40.744085</td>\n",
              "      <td>-73.973082</td>\n",
              "      <td>40.761247</td>\n",
              "      <td>4.475450</td>\n",
              "    </tr>\n",
              "    <tr>\n",
              "      <th>...</th>\n",
              "      <td>...</td>\n",
              "      <td>...</td>\n",
              "      <td>...</td>\n",
              "      <td>...</td>\n",
              "      <td>...</td>\n",
              "      <td>...</td>\n",
              "      <td>...</td>\n",
              "    </tr>\n",
              "    <tr>\n",
              "      <th>195467</th>\n",
              "      <td>3.0</td>\n",
              "      <td>2012-10-28 10:49:00 UTC</td>\n",
              "      <td>-73.987042</td>\n",
              "      <td>40.739367</td>\n",
              "      <td>-73.986525</td>\n",
              "      <td>40.740297</td>\n",
              "      <td>0.112210</td>\n",
              "    </tr>\n",
              "    <tr>\n",
              "      <th>195468</th>\n",
              "      <td>7.5</td>\n",
              "      <td>2014-03-14 01:09:00 UTC</td>\n",
              "      <td>-73.984722</td>\n",
              "      <td>40.736837</td>\n",
              "      <td>-74.006672</td>\n",
              "      <td>40.739620</td>\n",
              "      <td>1.875050</td>\n",
              "    </tr>\n",
              "    <tr>\n",
              "      <th>195469</th>\n",
              "      <td>30.9</td>\n",
              "      <td>2009-06-29 00:42:00 UTC</td>\n",
              "      <td>-73.986017</td>\n",
              "      <td>40.756487</td>\n",
              "      <td>-73.858957</td>\n",
              "      <td>40.692588</td>\n",
              "      <td>12.850319</td>\n",
              "    </tr>\n",
              "    <tr>\n",
              "      <th>195470</th>\n",
              "      <td>14.5</td>\n",
              "      <td>2015-05-20 14:56:25 UTC</td>\n",
              "      <td>-73.997124</td>\n",
              "      <td>40.725452</td>\n",
              "      <td>-73.983215</td>\n",
              "      <td>40.695415</td>\n",
              "      <td>3.539715</td>\n",
              "    </tr>\n",
              "    <tr>\n",
              "      <th>195471</th>\n",
              "      <td>14.1</td>\n",
              "      <td>2010-05-15 04:08:00 UTC</td>\n",
              "      <td>-73.984395</td>\n",
              "      <td>40.720077</td>\n",
              "      <td>-73.985508</td>\n",
              "      <td>40.768793</td>\n",
              "      <td>5.417783</td>\n",
              "    </tr>\n",
              "  </tbody>\n",
              "</table>\n",
              "<p>195472 rows × 7 columns</p>\n",
              "</div>\n",
              "      <button class=\"colab-df-convert\" onclick=\"convertToInteractive('df-4e3b3f5d-8423-4eea-a255-44a798a18191')\"\n",
              "              title=\"Convert this dataframe to an interactive table.\"\n",
              "              style=\"display:none;\">\n",
              "        \n",
              "  <svg xmlns=\"http://www.w3.org/2000/svg\" height=\"24px\"viewBox=\"0 0 24 24\"\n",
              "       width=\"24px\">\n",
              "    <path d=\"M0 0h24v24H0V0z\" fill=\"none\"/>\n",
              "    <path d=\"M18.56 5.44l.94 2.06.94-2.06 2.06-.94-2.06-.94-.94-2.06-.94 2.06-2.06.94zm-11 1L8.5 8.5l.94-2.06 2.06-.94-2.06-.94L8.5 2.5l-.94 2.06-2.06.94zm10 10l.94 2.06.94-2.06 2.06-.94-2.06-.94-.94-2.06-.94 2.06-2.06.94z\"/><path d=\"M17.41 7.96l-1.37-1.37c-.4-.4-.92-.59-1.43-.59-.52 0-1.04.2-1.43.59L10.3 9.45l-7.72 7.72c-.78.78-.78 2.05 0 2.83L4 21.41c.39.39.9.59 1.41.59.51 0 1.02-.2 1.41-.59l7.78-7.78 2.81-2.81c.8-.78.8-2.07 0-2.86zM5.41 20L4 18.59l7.72-7.72 1.47 1.35L5.41 20z\"/>\n",
              "  </svg>\n",
              "      </button>\n",
              "      \n",
              "  <style>\n",
              "    .colab-df-container {\n",
              "      display:flex;\n",
              "      flex-wrap:wrap;\n",
              "      gap: 12px;\n",
              "    }\n",
              "\n",
              "    .colab-df-convert {\n",
              "      background-color: #E8F0FE;\n",
              "      border: none;\n",
              "      border-radius: 50%;\n",
              "      cursor: pointer;\n",
              "      display: none;\n",
              "      fill: #1967D2;\n",
              "      height: 32px;\n",
              "      padding: 0 0 0 0;\n",
              "      width: 32px;\n",
              "    }\n",
              "\n",
              "    .colab-df-convert:hover {\n",
              "      background-color: #E2EBFA;\n",
              "      box-shadow: 0px 1px 2px rgba(60, 64, 67, 0.3), 0px 1px 3px 1px rgba(60, 64, 67, 0.15);\n",
              "      fill: #174EA6;\n",
              "    }\n",
              "\n",
              "    [theme=dark] .colab-df-convert {\n",
              "      background-color: #3B4455;\n",
              "      fill: #D2E3FC;\n",
              "    }\n",
              "\n",
              "    [theme=dark] .colab-df-convert:hover {\n",
              "      background-color: #434B5C;\n",
              "      box-shadow: 0px 1px 3px 1px rgba(0, 0, 0, 0.15);\n",
              "      filter: drop-shadow(0px 1px 2px rgba(0, 0, 0, 0.3));\n",
              "      fill: #FFFFFF;\n",
              "    }\n",
              "  </style>\n",
              "\n",
              "      <script>\n",
              "        const buttonEl =\n",
              "          document.querySelector('#df-4e3b3f5d-8423-4eea-a255-44a798a18191 button.colab-df-convert');\n",
              "        buttonEl.style.display =\n",
              "          google.colab.kernel.accessAllowed ? 'block' : 'none';\n",
              "\n",
              "        async function convertToInteractive(key) {\n",
              "          const element = document.querySelector('#df-4e3b3f5d-8423-4eea-a255-44a798a18191');\n",
              "          const dataTable =\n",
              "            await google.colab.kernel.invokeFunction('convertToInteractive',\n",
              "                                                     [key], {});\n",
              "          if (!dataTable) return;\n",
              "\n",
              "          const docLinkHtml = 'Like what you see? Visit the ' +\n",
              "            '<a target=\"_blank\" href=https://colab.research.google.com/notebooks/data_table.ipynb>data table notebook</a>'\n",
              "            + ' to learn more about interactive tables.';\n",
              "          element.innerHTML = '';\n",
              "          dataTable['output_type'] = 'display_data';\n",
              "          await google.colab.output.renderOutput(dataTable, element);\n",
              "          const docLink = document.createElement('div');\n",
              "          docLink.innerHTML = docLinkHtml;\n",
              "          element.appendChild(docLink);\n",
              "        }\n",
              "      </script>\n",
              "    </div>\n",
              "  </div>\n",
              "  "
            ],
            "text/plain": [
              "        fare_amount          pickup_datetime  pickup_longitude  \\\n",
              "0               7.5  2015-05-07 19:52:06 UTC        -73.999817   \n",
              "1               7.7  2009-07-17 20:04:56 UTC        -73.994355   \n",
              "2              12.9  2009-08-24 21:45:00 UTC        -74.005043   \n",
              "3               5.3  2009-06-26 08:22:21 UTC        -73.976124   \n",
              "4              16.0  2014-08-28 17:47:00 UTC        -73.925023   \n",
              "...             ...                      ...               ...   \n",
              "195467          3.0  2012-10-28 10:49:00 UTC        -73.987042   \n",
              "195468          7.5  2014-03-14 01:09:00 UTC        -73.984722   \n",
              "195469         30.9  2009-06-29 00:42:00 UTC        -73.986017   \n",
              "195470         14.5  2015-05-20 14:56:25 UTC        -73.997124   \n",
              "195471         14.1  2010-05-15 04:08:00 UTC        -73.984395   \n",
              "\n",
              "        pickup_latitude  dropoff_longitude  dropoff_latitude  \\\n",
              "0             40.738354         -73.999512         40.723217   \n",
              "1             40.728225         -73.994710         40.750325   \n",
              "2             40.740770         -73.962565         40.772647   \n",
              "3             40.790844         -73.965316         40.803349   \n",
              "4             40.744085         -73.973082         40.761247   \n",
              "...                 ...                ...               ...   \n",
              "195467        40.739367         -73.986525         40.740297   \n",
              "195468        40.736837         -74.006672         40.739620   \n",
              "195469        40.756487         -73.858957         40.692588   \n",
              "195470        40.725452         -73.983215         40.695415   \n",
              "195471        40.720077         -73.985508         40.768793   \n",
              "\n",
              "        coordinate_distance  \n",
              "0                  1.683323  \n",
              "1                  2.457590  \n",
              "2                  5.036377  \n",
              "3                  1.661683  \n",
              "4                  4.475450  \n",
              "...                     ...  \n",
              "195467             0.112210  \n",
              "195468             1.875050  \n",
              "195469            12.850319  \n",
              "195470             3.539715  \n",
              "195471             5.417783  \n",
              "\n",
              "[195472 rows x 7 columns]"
            ]
          },
          "execution_count": 7,
          "metadata": {},
          "output_type": "execute_result"
        }
      ],
      "source": [
        "def load_and_clean_uber_data(csv_file):\n",
        "  df = pd.read_csv(csv_file)\n",
        "  df=df.drop(columns=['Unnamed: 0','key','passenger_count'])\n",
        "  df = df.dropna(how='any')\n",
        "  df = df.loc[df.pickup_longitude.between(-74.242330,-73.717047) & df.dropoff_longitude.between(-74.242330,-73.717047) \n",
        "    & df.pickup_latitude.between(40.560445,40.908524)& df.dropoff_latitude.between(40.560445,40.908524)]\n",
        "  df.reset_index(drop=True, inplace=True)\n",
        "  return df\n",
        "\n",
        "def get_uber_data():\n",
        "  uber_dataframe = load_and_clean_uber_data(UBER_CSV)\n",
        "  df=add_distance_column(uber_dataframe)\n",
        "  return df\n",
        "get_uber_data()"
      ],
      "id": "7c58e3a2"
    },
    {
      "cell_type": "markdown",
      "metadata": {
        "id": "45a15cbb"
      },
      "source": [
        "### Processing Weather Data\n",
        "\n",
        "_Write some prose that tells the reader what you're about to do here._"
      ],
      "id": "45a15cbb"
    },
    {
      "cell_type": "code",
      "execution_count": null,
      "metadata": {
        "id": "76e864ab"
      },
      "outputs": [],
      "source": [
        "def clean_month_weather_data_hourly(csv_file):\n",
        "    we = pd.read_csv(csv_file)\n",
        "    f1 = ['DATE', 'HourlyPrecipitation', 'HourlyWindSpeed']\n",
        "    we_1 = pd.DataFrame()\n",
        "    for i in f1:\n",
        "        col1=we.loc[:,we.columns.str.contains(i)]\n",
        "        we_1=pd.concat([we_1, col1], axis=1)\n",
        "    hourly_clean= we_1.dropna()\n",
        "    hourly_clean.reset_index(drop=True, inplace=True)\n",
        "    return hourly_clean\n",
        "\n",
        "def clean_month_weather_data_daily(csv_file):\n",
        "    we = pd.read_csv(csv_file)\n",
        "    f2 = ['DATE', 'DailySustainedWindSpeed']\n",
        "    we_2 = pd.DataFrame()\n",
        "    for i in f2:\n",
        "        col2=we.loc[:,we.columns.str.contains(i)]\n",
        "        we_2=pd.concat([we_2, col2], axis=1)\n",
        "    daily_clean= we_2.dropna()\n",
        "    daily_clean.reset_index(drop=True, inplace=True)\n",
        "    return daily_clean\n",
        "    \n",
        "\n",
        "def load_and_clean_weather_data():\n",
        "    hourly_dataframes = []\n",
        "    daily_dataframes = []\n",
        "    \n",
        "    # add some way to find all weather CSV files\n",
        "    # or just add the name/paths manually\n",
        "    weather_csv_files = [\"2009_weather.csv\", \n",
        "                         \"2010_weather.csv\", \n",
        "                         \"2011_weather.csv\",\n",
        "                         \"2012_weather.csv\",\n",
        "                         \"2013_weather.csv\",\n",
        "                         \"2014_weather.csv\",\n",
        "                         \"2015_weather.csv\"]\n",
        "    \n",
        "    for csv_file in weather_csv_files:\n",
        "        hourly_dataframe = clean_month_weather_data_hourly(csv_file)\n",
        "        daily_dataframe = clean_month_weather_data_daily(csv_file)\n",
        "        hourly_dataframes.append(hourly_dataframe)\n",
        "        daily_dataframes.append(daily_dataframe)\n",
        "        \n",
        "    # create two dataframes with hourly & daily data from every month\n",
        "    hourly_data = pd.concat(hourly_dataframes)\n",
        "    daily_data = pd.concat(daily_dataframes)\n",
        "    return hourly_data, daily_data"
      ],
      "id": "76e864ab"
    },
    {
      "cell_type": "code",
      "execution_count": null,
      "metadata": {
        "colab": {
          "base_uri": "https://localhost:8080/"
        },
        "id": "fkHtnwt3FnKW",
        "outputId": "2d63a27b-78f0-4dda-9435-9b10e4a030f0"
      },
      "outputs": [
        {
          "name": "stderr",
          "output_type": "stream",
          "text": [
            "/usr/local/lib/python3.7/dist-packages/ipykernel_launcher.py:39: DtypeWarning: Columns (9,13) have mixed types.Specify dtype option on import or set low_memory=False.\n",
            "/usr/local/lib/python3.7/dist-packages/ipykernel_launcher.py:40: DtypeWarning: Columns (9,13) have mixed types.Specify dtype option on import or set low_memory=False.\n",
            "/usr/local/lib/python3.7/dist-packages/ipykernel_launcher.py:39: DtypeWarning: Columns (8,9,10,17) have mixed types.Specify dtype option on import or set low_memory=False.\n",
            "/usr/local/lib/python3.7/dist-packages/ipykernel_launcher.py:40: DtypeWarning: Columns (8,9,10,17) have mixed types.Specify dtype option on import or set low_memory=False.\n",
            "/usr/local/lib/python3.7/dist-packages/ipykernel_launcher.py:39: DtypeWarning: Columns (10) have mixed types.Specify dtype option on import or set low_memory=False.\n",
            "/usr/local/lib/python3.7/dist-packages/ipykernel_launcher.py:40: DtypeWarning: Columns (10) have mixed types.Specify dtype option on import or set low_memory=False.\n",
            "/usr/local/lib/python3.7/dist-packages/ipykernel_launcher.py:39: DtypeWarning: Columns (7,8,9,10,17,18,42,65) have mixed types.Specify dtype option on import or set low_memory=False.\n",
            "/usr/local/lib/python3.7/dist-packages/ipykernel_launcher.py:40: DtypeWarning: Columns (7,8,9,10,17,18,42,65) have mixed types.Specify dtype option on import or set low_memory=False.\n",
            "/usr/local/lib/python3.7/dist-packages/ipykernel_launcher.py:39: DtypeWarning: Columns (17,78) have mixed types.Specify dtype option on import or set low_memory=False.\n",
            "/usr/local/lib/python3.7/dist-packages/ipykernel_launcher.py:40: DtypeWarning: Columns (17,78) have mixed types.Specify dtype option on import or set low_memory=False.\n",
            "/usr/local/lib/python3.7/dist-packages/ipykernel_launcher.py:39: DtypeWarning: Columns (8,9,17,18,78) have mixed types.Specify dtype option on import or set low_memory=False.\n",
            "/usr/local/lib/python3.7/dist-packages/ipykernel_launcher.py:40: DtypeWarning: Columns (8,9,17,18,78) have mixed types.Specify dtype option on import or set low_memory=False.\n",
            "/usr/local/lib/python3.7/dist-packages/ipykernel_launcher.py:39: DtypeWarning: Columns (10,41,78) have mixed types.Specify dtype option on import or set low_memory=False.\n",
            "/usr/local/lib/python3.7/dist-packages/ipykernel_launcher.py:40: DtypeWarning: Columns (10,41,78) have mixed types.Specify dtype option on import or set low_memory=False.\n"
          ]
        },
        {
          "data": {
            "text/plain": [
              "(                     DATE HourlyPrecipitation  HourlyWindSpeed\n",
              " 0     2009-01-02T12:34:00                   T             14.0\n",
              " 1     2009-01-02T12:51:00                   T             11.0\n",
              " 2     2009-01-02T13:05:00                   T              7.0\n",
              " 3     2009-01-02T13:30:00                   T              9.0\n",
              " 4     2009-01-02T13:46:00                   T             10.0\n",
              " ...                   ...                 ...              ...\n",
              " 9102  2015-12-31T18:51:00                0.00              3.0\n",
              " 9103  2015-12-31T19:51:00                0.00              6.0\n",
              " 9104  2015-12-31T20:51:00                0.00             10.0\n",
              " 9105  2015-12-31T22:51:00                0.00              7.0\n",
              " 9106  2015-12-31T23:51:00                0.00              5.0\n",
              " \n",
              " [38260 rows x 3 columns],                     DATE  DailySustainedWindSpeed\n",
              " 0    2012-07-31T23:59:00                     10.0\n",
              " 1    2012-08-01T23:59:00                      9.0\n",
              " 2    2012-08-02T23:59:00                     12.0\n",
              " 3    2012-08-03T23:59:00                      9.0\n",
              " 4    2012-08-04T23:59:00                     12.0\n",
              " ..                   ...                      ...\n",
              " 360  2015-12-27T23:59:00                     15.0\n",
              " 361  2015-12-28T23:59:00                     18.0\n",
              " 362  2015-12-29T23:59:00                     18.0\n",
              " 363  2015-12-30T23:59:00                      9.0\n",
              " 364  2015-12-31T23:59:00                     14.0\n",
              " \n",
              " [1249 rows x 2 columns])"
            ]
          },
          "execution_count": 52,
          "metadata": {},
          "output_type": "execute_result"
        }
      ],
      "source": [
        "load_and_clean_weather_data() "
      ],
      "id": "fkHtnwt3FnKW"
    },
    {
      "cell_type": "code",
      "execution_count": null,
      "metadata": {
        "id": "0snyt-lyIhdp"
      },
      "outputs": [],
      "source": [
        ""
      ],
      "id": "0snyt-lyIhdp"
    },
    {
      "cell_type": "markdown",
      "metadata": {
        "id": "f900f7aa"
      },
      "source": [
        "### Process All Data\n",
        "\n",
        "_This is where you can actually execute all the required functions._\n",
        "\n",
        "_Write some prose that tells the reader what you're about to do here._"
      ],
      "id": "f900f7aa"
    },
    {
      "cell_type": "code",
      "execution_count": null,
      "metadata": {
        "colab": {
          "base_uri": "https://localhost:8080/",
          "height": 331
        },
        "id": "f7cd53a6",
        "outputId": "9bc9f0d8-dbaa-4103-f397-0e88e12c14c6"
      },
      "outputs": [
        {
          "ename": "NameError",
          "evalue": "ignored",
          "output_type": "error",
          "traceback": [
            "\u001b[0;31m---------------------------------------------------------------------------\u001b[0m",
            "\u001b[0;31mNameError\u001b[0m                                 Traceback (most recent call last)",
            "\u001b[0;32m<ipython-input-2-6351a5d2e59e>\u001b[0m in \u001b[0;36m<module>\u001b[0;34m()\u001b[0m\n\u001b[0;32m----> 1\u001b[0;31m \u001b[0mtaxi_data\u001b[0m \u001b[0;34m=\u001b[0m \u001b[0mget_and_clean_taxi_data\u001b[0m\u001b[0;34m(\u001b[0m\u001b[0;34m)\u001b[0m\u001b[0;34m\u001b[0m\u001b[0;34m\u001b[0m\u001b[0m\n\u001b[0m\u001b[1;32m      2\u001b[0m \u001b[0muber_data\u001b[0m \u001b[0;34m=\u001b[0m \u001b[0mget_uber_data\u001b[0m\u001b[0;34m(\u001b[0m\u001b[0;34m)\u001b[0m\u001b[0;34m\u001b[0m\u001b[0;34m\u001b[0m\u001b[0m\n\u001b[1;32m      3\u001b[0m \u001b[0mhourly_weather\u001b[0m\u001b[0;34m,\u001b[0m \u001b[0mdaily_weather\u001b[0m \u001b[0;34m=\u001b[0m \u001b[0mload_and_clean_weather_data\u001b[0m\u001b[0;34m(\u001b[0m\u001b[0;34m)\u001b[0m\u001b[0;34m\u001b[0m\u001b[0;34m\u001b[0m\u001b[0m\n",
            "\u001b[0;32m<ipython-input-1-40f120b0aa54>\u001b[0m in \u001b[0;36mget_and_clean_taxi_data\u001b[0;34m()\u001b[0m\n\u001b[1;32m     52\u001b[0m     \u001b[0mall_taxi_dataframes\u001b[0m \u001b[0;34m=\u001b[0m \u001b[0;34m[\u001b[0m\u001b[0;34m]\u001b[0m\u001b[0;34m\u001b[0m\u001b[0;34m\u001b[0m\u001b[0m\n\u001b[1;32m     53\u001b[0m \u001b[0;34m\u001b[0m\u001b[0m\n\u001b[0;32m---> 54\u001b[0;31m     \u001b[0mall_csv_urls\u001b[0m \u001b[0;34m=\u001b[0m \u001b[0mfind_taxi_csv_urls\u001b[0m\u001b[0;34m(\u001b[0m\u001b[0mTAXI_URL\u001b[0m\u001b[0;34m)\u001b[0m\u001b[0;34m\u001b[0m\u001b[0;34m\u001b[0m\u001b[0m\n\u001b[0m\u001b[1;32m     55\u001b[0m     \u001b[0;32mfor\u001b[0m \u001b[0mcsv_url\u001b[0m \u001b[0;32min\u001b[0m \u001b[0mall_csv_urls\u001b[0m\u001b[0;34m:\u001b[0m\u001b[0;34m\u001b[0m\u001b[0;34m\u001b[0m\u001b[0m\n\u001b[1;32m     56\u001b[0m         \u001b[0;31m# maybe: first try to see if you've downloaded this exact\u001b[0m\u001b[0;34m\u001b[0m\u001b[0;34m\u001b[0m\u001b[0;34m\u001b[0m\u001b[0m\n",
            "\u001b[0;31mNameError\u001b[0m: name 'TAXI_URL' is not defined"
          ]
        }
      ],
      "source": [
        "taxi_data = get_and_clean_taxi_data()\n",
        "uber_data = get_uber_data()\n",
        "hourly_weather, daily_weather = load_and_clean_weather_data()"
      ],
      "id": "f7cd53a6"
    },
    {
      "cell_type": "markdown",
      "metadata": {
        "id": "dd101f11"
      },
      "source": [
        "## Part 2: Storing Cleaned Data\n",
        "\n",
        "_Write some prose that tells the reader what you're about to do here._"
      ],
      "id": "dd101f11"
    },
    {
      "cell_type": "code",
      "execution_count": null,
      "metadata": {
        "id": "f3529cf6"
      },
      "outputs": [],
      "source": [
        "engine = db.create_engine(DATABASE_URL)"
      ],
      "id": "f3529cf6"
    },
    {
      "cell_type": "code",
      "execution_count": null,
      "metadata": {
        "id": "d2bea0ff"
      },
      "outputs": [],
      "source": [
        "# if using SQL (as opposed to SQLAlchemy), define the commands \n",
        "# to create your 4 tables/dataframes\n",
        "HOURLY_WEATHER_SCHEMA = \"\"\"\n",
        "CREATE TABLE IF NOT EXISTS hourly_weather\n",
        "(\n",
        "    id INTEGER PRIMARY KEY,\n",
        "    DATE TEXT,\n",
        "    HourlyPrecipitation TEXT,\n",
        "    HourlyWindSpeed INTEGER\n",
        ")\n",
        "\"\"\"\n",
        "\n",
        "DAILY_WEATHER_SCHEMA = \"\"\"\n",
        "CREATE TABLE IF NOT EXISTS daily_weather\n",
        "(\n",
        "    id INTEGER PRIMARY KEY,\n",
        "    DATE TEXT,\n",
        "    DailySustainedWindSpeed INTEGER\n",
        ")\n",
        "\"\"\"\n",
        "\n",
        "TAXI_TRIPS_SCHEMA = \"\"\"\n",
        "TODO\n",
        "\"\"\"\n",
        "\n",
        "UBER_TRIPS_SCHEMA = \"\"\"\n",
        "TODO\n",
        "\"\"\""
      ],
      "id": "d2bea0ff"
    },
    {
      "cell_type": "code",
      "execution_count": null,
      "metadata": {
        "id": "5f41e54b"
      },
      "outputs": [],
      "source": [
        "# create that required schema.sql file\n",
        "with open(DATABASE_SCHEMA_FILE, \"w\") as f:\n",
        "    f.write(HOURLY_WEATHER_SCHEMA)\n",
        "    f.write(DAILY_WEATHER_SCHEMA)\n",
        "    f.write(TAXI_TRIPS_SCHEMA)\n",
        "    f.write(UBER_TRIPS_SCHEMA)"
      ],
      "id": "5f41e54b"
    },
    {
      "cell_type": "code",
      "execution_count": null,
      "metadata": {
        "id": "Y4Owksl9eAah"
      },
      "outputs": [],
      "source": [
        ""
      ],
      "id": "Y4Owksl9eAah"
    },
    {
      "cell_type": "code",
      "execution_count": null,
      "metadata": {
        "id": "02eccdba"
      },
      "outputs": [],
      "source": [
        "# create the tables with the schema files\n",
        "with engine.connect() as connection:\n",
        "    pass"
      ],
      "id": "02eccdba"
    },
    {
      "cell_type": "markdown",
      "metadata": {
        "id": "c122964f"
      },
      "source": [
        "### Add Data to Database\n",
        "\n",
        "_Write some prose that tells the reader what you're about to do here._"
      ],
      "id": "c122964f"
    },
    {
      "cell_type": "code",
      "execution_count": null,
      "metadata": {
        "id": "Mu5zSErk1ZRT"
      },
      "outputs": [],
      "source": [
        "https://pandas.pydata.org/docs/reference/api/pandas.DataFrame.to_sql.html"
      ],
      "id": "Mu5zSErk1ZRT"
    },
    {
      "cell_type": "code",
      "execution_count": null,
      "metadata": {
        "id": "0e68a363"
      },
      "outputs": [],
      "source": [
        "def dataframes_to_table(table_name_to_dataframe, engine):\n",
        "  for key in table_name_to_dataframe:\n",
        "    table_name_to_dataframe[key].to_sql(key, con=engine, if_exists=\"replace\", index=False)"
      ],
      "id": "0e68a363"
    },
    {
      "cell_type": "code",
      "execution_count": null,
      "metadata": {
        "id": "45d6c06c"
      },
      "outputs": [],
      "source": [
        "table_name_to_dataframe = {\n",
        "    \"taxi_trips\": taxi_data,\n",
        "    \"uber_trips\": uber_data,\n",
        "    \"hourly_weather\": hourly_data,\n",
        "    \"daily_weather\": daily_data,\n",
        "}\n",
        "\n",
        "dataframes_to_table(table_name_to_dataframe)"
      ],
      "id": "45d6c06c"
    },
    {
      "cell_type": "markdown",
      "metadata": {
        "id": "8cb6e33e"
      },
      "source": [
        "## Part 3: Understanding the Data"
      ],
      "id": "8cb6e33e"
    },
    {
      "cell_type": "markdown",
      "metadata": {
        "id": "b4753fcd"
      },
      "source": [
        "_A checklist of requirements to keep you on track. Remove this whole cell before submitting the project. The order of these tasks aren't necessarily the order in which they need to be done. It's okay to do them in an order that makes sense to you._\n",
        "\n",
        "* [ ] For 01-2009 through 06-2015, what hour of the day was the most popular to take a yellow taxi? The result should have 24 bins.\n",
        "* [ ] For the same time frame, what day of the week was the most popular to take an uber? The result should have 7 bins.\n",
        "* [ ] What is the 95% percentile of distance traveled for all hired trips during July 2013?\n",
        "* [ ] What were the top 10 days with the highest number of hired rides for 2009, and what was the average distance for each day?\n",
        "* [ ] Which 10 days in 2014 were the windiest, and how many hired trips were made on those days?\n",
        "* [ ] During Hurricane Sandy in NYC (Oct 29-30, 2012) and the week leading up to it, how many trips were taken each hour, and for each hour, how much precipitation did NYC receive and what was the sustained wind speed?"
      ],
      "id": "b4753fcd"
    },
    {
      "cell_type": "code",
      "execution_count": null,
      "metadata": {
        "id": "6a849e92"
      },
      "outputs": [],
      "source": [
        "def write_query_to_file(query, outfile):\n",
        "    raise NotImplemented()"
      ],
      "id": "6a849e92"
    },
    {
      "cell_type": "markdown",
      "metadata": {
        "id": "ee70a777"
      },
      "source": [
        "### Query N\n",
        "\n",
        "_Write some prose that tells the reader what you're about to do here._\n",
        "\n",
        "_Repeat for each query_"
      ],
      "id": "ee70a777"
    },
    {
      "cell_type": "code",
      "execution_count": null,
      "metadata": {
        "id": "db871d3c"
      },
      "outputs": [],
      "source": [
        "QUERY_N = \"\"\"\n",
        "TODO\n",
        "\"\"\""
      ],
      "id": "db871d3c"
    },
    {
      "cell_type": "code",
      "execution_count": null,
      "metadata": {
        "id": "c5275f3a"
      },
      "outputs": [],
      "source": [
        "engine.execute(QUERY_N).fetchall()"
      ],
      "id": "c5275f3a"
    },
    {
      "cell_type": "code",
      "execution_count": null,
      "metadata": {
        "id": "a2ef04df"
      },
      "outputs": [],
      "source": [
        "write_query_to_file(QUERY_N, \"some_descriptive_name.sql\")"
      ],
      "id": "a2ef04df"
    },
    {
      "cell_type": "markdown",
      "metadata": {
        "id": "a13ced42"
      },
      "source": [
        "## Part 4: Visualizing the Data\n",
        "\n",
        "_A checklist of requirements to keep you on track. Remove this whole cell before submitting the project. The order of these tasks aren't necessarily the order in which they need to be done. It's okay to do them in an order that makes sense to you._\n",
        "\n",
        "* [ ] Create an appropriate visualization for the first query/question in part 3\n",
        "* [ ] Create a visualization that shows the average distance traveled per month (regardless of year - so group by each month). Include the 90% confidence interval around the mean in the visualization\n",
        "* [ ] Define three lat/long coordinate boxes around the three major New York airports: LGA, JFK, and EWR (you can use bboxfinder to help). Create a visualization that compares what day of the week was most popular for drop offs for each airport.\n",
        "* [ ] Create a heatmap of all hired trips over a map of the area. Consider using KeplerGL or another library that helps generate geospatial visualizations.\n",
        "* [ ] Create a scatter plot that compares tip amount versus distance.\n",
        "* [ ] Create another scatter plot that compares tip amount versus precipitation amount.\n",
        "* [ ] Come up with 3 questions on your own that can be answered based on the data in the 4 tables. Create at least one visualization to answer each question. At least one visualization should require data from at least 3 tables.\n",
        "\n",
        "_Be sure these cells are executed so that the visualizations are rendered when the notebook is submitted._"
      ],
      "id": "a13ced42"
    },
    {
      "cell_type": "markdown",
      "metadata": {
        "id": "6d9eef42"
      },
      "source": [
        "### Visualization N\n",
        "\n",
        "_Write some prose that tells the reader what you're about to do here._\n",
        "\n",
        "_Repeat for each visualization._\n",
        "\n",
        "_You don't have to query the data directly from the database. You can just re-use the pandas DataFrame that you created in Part 1._\n",
        "\n",
        "_The example below makes use of the `matplotlib` library. There are other libraries, including `pandas` built-in plotting library, kepler for geospatial data representation, `seaborn`, and others._"
      ],
      "id": "6d9eef42"
    },
    {
      "cell_type": "code",
      "execution_count": null,
      "metadata": {
        "id": "0de8394c"
      },
      "outputs": [],
      "source": [
        "# use a more descriptive name for your function\n",
        "def plot_visual_n(dataframe):\n",
        "    figure, axes = plt.subplots(figsize=(20, 10))\n",
        "    \n",
        "    values = \"...\"  # use the dataframe to pull out values needed to plot\n",
        "    \n",
        "    # you may want to use matplotlib to plot your visualizations;\n",
        "    # there are also many other plot types (other \n",
        "    # than axes.plot) you can use\n",
        "    axes.plot(values, \"...\")\n",
        "    # there are other methods to use to label your axes, to style \n",
        "    # and set up axes labels, etc\n",
        "    axes.set_title(\"Some Descriptive Title\")\n",
        "    \n",
        "    plt.show()"
      ],
      "id": "0de8394c"
    },
    {
      "cell_type": "code",
      "execution_count": null,
      "metadata": {
        "id": "3c63e845"
      },
      "outputs": [],
      "source": [
        "plot_visual_n(some_dataframe)"
      ],
      "id": "3c63e845"
    }
  ],
  "metadata": {
    "colab": {
      "collapsed_sections": [],
      "name": "v1",
      "provenance": [],
      "toc_visible": true,
      "include_colab_link": true
    },
    "kernelspec": {
      "display_name": "Python 3 (ipykernel)",
      "language": "python",
      "name": "python3"
    },
    "language_info": {
      "codemirror_mode": {
        "name": "ipython",
        "version": 3
      },
      "file_extension": ".py",
      "mimetype": "text/x-python",
      "name": "python",
      "nbconvert_exporter": "python",
      "pygments_lexer": "ipython3",
      "version": "3.9.7"
    }
  },
  "nbformat": 4,
  "nbformat_minor": 5
}